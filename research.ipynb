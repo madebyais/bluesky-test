{
 "cells": [
  {
   "cell_type": "markdown",
   "metadata": {},
   "source": [
    "# Test\n",
    "\n",
    "Build a Python app that scrapes all types of Pokemon into local database, and make them available to view using API, use jsonapi standards. Use Python and only necessary libraries.\n",
    "\n",
    "# Research Tasks\n",
    "\n",
    "- [x] Research any website that provides data of Pokemon.\n",
    "- [ ] Check if the website is server-side rendered or client-side.\n",
    "- [ ] Decide which libraries to use, for server-side rendered we can use `requests`, for client-side we can use `selenium`.\n",
    "- [ ] Parse html and retrieve data using `beautifulsoup` (this task only needed if website is server-side rendered).\n",
    "- [ ] Store data in local database, we can use `sqlite`.\n"
   ]
  },
  {
   "cell_type": "markdown",
   "metadata": {},
   "source": [
    "### Research Tasks\n",
    "\n",
    "#### Research any website that provides data of Pokemon.\n",
    "\n",
    "Found several websites that provide data of Pokemon. Decided to use [PokemonDB](https://pokemondb.net/pokedex/all)."
   ]
  },
  {
   "cell_type": "code",
   "execution_count": null,
   "metadata": {},
   "outputs": [],
   "source": []
  }
 ],
 "metadata": {
  "language_info": {
   "name": "python"
  }
 },
 "nbformat": 4,
 "nbformat_minor": 2
}
