{
 "cells": [
  {
   "cell_type": "markdown",
   "metadata": {},
   "source": [
    "# Test\n",
    "\n",
    "Build a Python app that scrapes all types of Pokemon into local database, and make them available to view using API, use jsonapi standards. Use Python and only necessary libraries.\n",
    "\n",
    "# Research Tasks\n",
    "\n",
    "- [x] Research any website that provides data of Pokemon.\n",
    "- [x] Check if the website is server-side rendered or client-side.\n",
    "- [x] Decide which libraries to use, for server-side rendered we can use `requests`, for client-side we can use `selenium`.\n",
    "- [ ] Parse html and retrieve data using `beautifulsoup` (this task only needed if website is server-side rendered).\n",
    "- [ ] Store data in local database, we can use `sqlite`.\n"
   ]
  },
  {
   "cell_type": "markdown",
   "metadata": {},
   "source": [
    "### Research Tasks\n",
    "\n",
    "#### Research any website that provides data of Pokemon.\n",
    "\n",
    "Found several websites that provide data of Pokemon. Decided to use [PokemonDB](https://pokemondb.net/pokedex/all)."
   ]
  },
  {
   "cell_type": "markdown",
   "metadata": {},
   "source": [
    "### Research Tasks\n",
    "\n",
    "#### Check if the website is server-side rendered or client-side.\n",
    "\n",
    "Used the following command to test whether the website is server-side rendered or client-side:\n",
    "\n",
    "```bash\n",
    "curl https://pokemondb.net/pokedex/all\n",
    "```\n",
    "\n",
    "The response shows the HTML code, which indicates the website is server-side rendered.\n",
    "\n",
    "```html\n",
    "...\n",
    "\n",
    "<tr>\n",
    "    <td class=\"cell-num cell-fixed\" data-sort-value=\"413\"><picture class=\"infocard-cell-img\">\n",
    "\t<source srcset=\"https://img.pokemondb.net/sprites/scarlet-violet/icon/avif/wormadam-trash.avif\" width=\"60\" height=\"56\" type=\"image/avif\">\n",
    "\t<img class=\"img-fixed icon-pkmn\" src=\"https://img.pokemondb.net/sprites/scarlet-violet/icon/wormadam-trash.png\" alt=\"Wormadam (Trash Cloak)\" width=\"60\" height=\"56\" loading=\"lazy\">\n",
    "    </picture><span class=\"infocard-cell-data\">0413</span></td> <td class=\"cell-name\"><a class=\"ent-name\" href=\"/pokedex/wormadam\" title=\"View Pokedex for #0413 Wormadam\">Wormadam</a><br> <small class=\"text-muted\">Trash Cloak</small></td><td class=\"cell-icon\"><a class=\"type-icon type-bug\"  href=\"/type/bug\" >Bug</a><br> <a class=\"type-icon type-steel\"  href=\"/type/steel\" >Steel</a></td>\n",
    "    <td class=\"cell-num cell-total\">424</td>\n",
    "    <td class=\"cell-num\">60</td>\n",
    "    <td class=\"cell-num\">69</td>\n",
    "    <td class=\"cell-num\">95</td>\n",
    "    <td class=\"cell-num\">69</td>\n",
    "    <td class=\"cell-num\">95</td>\n",
    "    <td class=\"cell-num\">36</td>\n",
    "</tr>\n",
    "\n",
    "...\n",
    "```\n",
    "\n",
    "#### Decide which libraries to use, for server-side rendered we can use `requests`, for client-side we can use `selenium`\n",
    "\n",
    "Decided to use `requets` library."
   ]
  }
 ],
 "metadata": {
  "language_info": {
   "name": "python"
  }
 },
 "nbformat": 4,
 "nbformat_minor": 2
}
