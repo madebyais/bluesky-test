{
 "cells": [
  {
   "cell_type": "markdown",
   "metadata": {},
   "source": [
    "# Test\n",
    "\n",
    "Build a Python app that scrapes all types of Pokemon into local database, and make them available to view using API, use jsonapi standards. Use Python and only necessary libraries.\n",
    "\n",
    "# Research Tasks\n",
    "\n",
    "- [x] Research any website that provides data of Pokemon.\n",
    "- [x] Check if the website is server-side rendered or client-side.\n",
    "- [x] Decide which libraries to use, for server-side rendered we can use `requests`, for client-side we can use `selenium`.\n",
    "- [x] Parse html and retrieve data using `beautifulsoup` (this task only needed if website is server-side rendered).\n",
    "- [x] Store data in local database, we can use `sqlite`.\n"
   ]
  },
  {
   "cell_type": "markdown",
   "metadata": {},
   "source": [
    "### Research Tasks\n",
    "\n",
    "#### Research any website that provides data of Pokemon.\n",
    "\n",
    "Found several websites that provide data of Pokemon. Decided to use [PokemonDB](https://pokemondb.net/pokedex/all)."
   ]
  },
  {
   "cell_type": "markdown",
   "metadata": {},
   "source": [
    "### Research Tasks\n",
    "\n",
    "#### Check if the website is server-side rendered or client-side.\n",
    "\n",
    "Used the following command to test whether the website is server-side rendered or client-side:\n",
    "\n",
    "```bash\n",
    "curl https://pokemondb.net/pokedex/all\n",
    "```\n",
    "\n",
    "The response shows the HTML code, which indicates the website is server-side rendered.\n",
    "\n",
    "```html\n",
    "...\n",
    "\n",
    "<tr>\n",
    "    <td class=\"cell-num cell-fixed\" data-sort-value=\"413\"><picture class=\"infocard-cell-img\">\n",
    "\t<source srcset=\"https://img.pokemondb.net/sprites/scarlet-violet/icon/avif/wormadam-trash.avif\" width=\"60\" height=\"56\" type=\"image/avif\">\n",
    "\t<img class=\"img-fixed icon-pkmn\" src=\"https://img.pokemondb.net/sprites/scarlet-violet/icon/wormadam-trash.png\" alt=\"Wormadam (Trash Cloak)\" width=\"60\" height=\"56\" loading=\"lazy\">\n",
    "    </picture><span class=\"infocard-cell-data\">0413</span></td> <td class=\"cell-name\"><a class=\"ent-name\" href=\"/pokedex/wormadam\" title=\"View Pokedex for #0413 Wormadam\">Wormadam</a><br> <small class=\"text-muted\">Trash Cloak</small></td><td class=\"cell-icon\"><a class=\"type-icon type-bug\"  href=\"/type/bug\" >Bug</a><br> <a class=\"type-icon type-steel\"  href=\"/type/steel\" >Steel</a></td>\n",
    "    <td class=\"cell-num cell-total\">424</td>\n",
    "    <td class=\"cell-num\">60</td>\n",
    "    <td class=\"cell-num\">69</td>\n",
    "    <td class=\"cell-num\">95</td>\n",
    "    <td class=\"cell-num\">69</td>\n",
    "    <td class=\"cell-num\">95</td>\n",
    "    <td class=\"cell-num\">36</td>\n",
    "</tr>\n",
    "\n",
    "...\n",
    "```\n",
    "\n",
    "#### Decide which libraries to use, for server-side rendered we can use `requests`, for client-side we can use `selenium`\n",
    "\n",
    "Decided to use `requets` library."
   ]
  },
  {
   "cell_type": "markdown",
   "metadata": {},
   "source": [
    "### Research Tasks\n",
    "\n",
    "#### Parse html and retrieve data using `beautifulsoup` (this task only needed if website is server-side rendered)"
   ]
  },
  {
   "cell_type": "code",
   "execution_count": null,
   "metadata": {},
   "outputs": [],
   "source": [
    "import requests\n",
    "from bs4 import BeautifulSoup\n",
    "\n",
    "response = requests.get(\"https://pokemondb.net/pokedex/all\")\n",
    "soup = BeautifulSoup(response.text, \"html.parser\")\n",
    "\n",
    "table = soup.find(\"table\", { \"id\": \"pokedex\" })\n",
    "table_body = table.find(\"tbody\")\n",
    "\n",
    "pokemons = []\n",
    "for index, row in enumerate(table_body.find_all(\"tr\")):\n",
    "    cells = row.find_all(\"td\")\n",
    "    \n",
    "    picture = cells[0].find(\"img\").get(\"src\")\n",
    "    name = cells[1].find(\"a\").text\n",
    "    type_el = cells[2].find_all(\"a\")\n",
    "    ptype = \",\".join([t.text for t in type_el])\n",
    "    total = cells[3].text\n",
    "    hp = cells[4].text\n",
    "    attack = cells[5].text\n",
    "    defense = cells[6].text\n",
    "    sp_attack = cells[7].text\n",
    "    sp_defense = cells[8].text\n",
    "    speed = cells[9].text\n",
    "\n",
    "    print({\n",
    "        \"picture\": picture,\n",
    "        \"name\": name,\n",
    "        \"type\": ptype,\n",
    "        \"total\": total,\n",
    "        \"hp\": hp,\n",
    "        \"attack\": attack,\n",
    "        \"defense\": defense,\n",
    "        \"sp_attack\": sp_attack,\n",
    "        \"sp_defense\": sp_defense,\n",
    "        \"speed\": speed\n",
    "    })\n",
    "\n",
    "\n",
    "    pokemons.append((\n",
    "        index+1,\n",
    "        picture,\n",
    "        name,\n",
    "        ptype,\n",
    "        total,\n",
    "        hp,\n",
    "        attack,\n",
    "        defense,\n",
    "        sp_attack,\n",
    "        sp_defense,\n",
    "        speed\n",
    "    ))\n",
    "\n",
    "pokemons\n"
   ]
  },
  {
   "cell_type": "markdown",
   "metadata": {},
   "source": [
    "### Research Tasks\n",
    "\n",
    "#### Store data in local database, we can use `sqlite`.\n",
    "\n",
    "Reference: [sqlite3](https://docs.python.org/3/library/sqlite3.html)"
   ]
  },
  {
   "cell_type": "code",
   "execution_count": null,
   "metadata": {},
   "outputs": [],
   "source": [
    "import sqlite3\n",
    "conn = sqlite3.connect('pokemon.db')\n",
    "\n",
    "cur = conn.cursor()\n",
    "\n",
    "# Create a table\n",
    "cur.execute(\"\"\"CREATE TABLE pokemon (\n",
    "    id INTEGER PRIMARY KEY AUTOINCREMENT,\n",
    "    picture TEXT,\n",
    "    name TEXT,\n",
    "    ptype TEXT,\n",
    "    total TEXT,\n",
    "    hp TEXT,\n",
    "    attack TEXT,\n",
    "    defense TEXT,\n",
    "    sp_attack TEXT,\n",
    "    sp_defense TEXT,\n",
    "    speed TEXT\n",
    ")\"\"\")"
   ]
  },
  {
   "cell_type": "code",
   "execution_count": 30,
   "metadata": {},
   "outputs": [],
   "source": [
    "# Insert data to table\n",
    "for item in pokemons:\n",
    "    cur.execute(\"INSERT INTO pokemon VALUES (?, ?, ?, ?, ?, ?, ?, ?, ?, ?, ?)\", item)\n",
    "\n",
    "conn.commit()"
   ]
  },
  {
   "cell_type": "code",
   "execution_count": null,
   "metadata": {},
   "outputs": [],
   "source": [
    "# Fetch data from table\n",
    "res = cur.execute(\"SELECT * FROM pokemon\")\n",
    "res.fetchall()"
   ]
  }
 ],
 "metadata": {
  "kernelspec": {
   "display_name": ".venv",
   "language": "python",
   "name": "python3"
  },
  "language_info": {
   "codemirror_mode": {
    "name": "ipython",
    "version": 3
   },
   "file_extension": ".py",
   "mimetype": "text/x-python",
   "name": "python",
   "nbconvert_exporter": "python",
   "pygments_lexer": "ipython3",
   "version": "3.11.11"
  }
 },
 "nbformat": 4,
 "nbformat_minor": 2
}
